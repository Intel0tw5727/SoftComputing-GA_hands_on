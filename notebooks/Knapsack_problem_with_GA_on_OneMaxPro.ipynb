{
 "cells": [
  {
   "cell_type": "markdown",
   "metadata": {},
   "source": [
    "# DEAPを使ってナップサック問題を解決する"
   ]
  },
  {
   "cell_type": "markdown",
   "metadata": {},
   "source": [
    "## 概要\n",
    "+ 遺伝的アルゴリズムモジュールであるDEAPを用いてナップサック問題を解くコードを書く\n",
    "> http://deap.readthedocs.io/en/master/examples/ga_knapsack.html\n",
    "> http://nobunaga.hatenablog.jp/entry/2016/05/16/121409"
   ]
  },
  {
   "cell_type": "code",
   "execution_count": 1,
   "metadata": {},
   "outputs": [
    {
     "name": "stdout",
     "output_type": "stream",
     "text": [
      "Requirement already satisfied: deap in /Users/intel0tw5727/.pyenv/versions/anaconda3-5.1.0/lib/python3.6/site-packages (1.2.2)\r\n"
     ]
    }
   ],
   "source": [
    "# 必要モジュールのインストール\n",
    "!pip install deap"
   ]
  },
  {
   "cell_type": "markdown",
   "metadata": {},
   "source": [
    "## モジュールのインポート"
   ]
  },
  {
   "cell_type": "markdown",
   "metadata": {},
   "source": [
    "+ numpy:数値計算拡張モジュール\n",
    "+ deap\n",
    "    + algorithms: 遺伝的アルゴリズムの基本的なループ作業を扱う\n",
    "    + base: 様々な関数などをDeapで扱うための土台となる\n",
    "    + creator: 個体や適応度などを定義する\n",
    "    + tools: GAに関わる様々な関数を扱う"
   ]
  },
  {
   "cell_type": "code",
   "execution_count": 2,
   "metadata": {},
   "outputs": [],
   "source": [
    "import numpy as np\n",
    "from deap import algorithms, base, creator, tools"
   ]
  },
  {
   "cell_type": "markdown",
   "metadata": {},
   "source": [
    "## ナップサック問題とGAの設計\n",
    "\n",
    "DEAPを使った遺伝的アルゴリズムで問題を解く流れは以下のようになります。\n",
    "\n",
    "1. 問題の設計\n",
    "    + 問題に必要なアイテムを作る\n",
    "    + ナップサック問題なら今回の場合「重さ」と「価値」を持ったアイテムを作る\n",
    "2. 適応度と個体の設定\n",
    "    + 遺伝子に対して最大化or最小化問題を設計する\n",
    "3. GAに必要な関数の設計\n",
    "    + 評価・交叉・突然変異の関数を設計する\n",
    "    + 自作も可能だが、既にtools内に準備されている関数もある\n",
    "4. GAの各関数をDeapで実行できるように統一する\n",
    "    + toolboxクラスを使ってそれぞれの関数をdeapで使えるように統一する\n",
    "5. GAで計算\n",
    "6. 計算結果を可視化\n",
    "    + 結果が世代ごとにどのように推移していったかを可視化する"
   ]
  },
  {
   "cell_type": "markdown",
   "metadata": {},
   "source": [
    "### 1. ナップサック問題を設計"
   ]
  },
  {
   "cell_type": "code",
   "execution_count": 3,
   "metadata": {},
   "outputs": [],
   "source": [
    "# 必要変数の設計\n",
    "NBR_ITEMS = 10 # 荷物の種類の数\n",
    "MAX_WEIGHT = 20 # バッグの容量"
   ]
  },
  {
   "cell_type": "code",
   "execution_count": 4,
   "metadata": {},
   "outputs": [],
   "source": [
    "# seed値を固定することで再現性を確保\n",
    "np.random.seed(98)\n",
    "\n",
    "items = {}\n",
    "for i in range(NBR_ITEMS):\n",
    "    items[i] = (np.random.randint(1,20), np.random.randint(0, 10))"
   ]
  },
  {
   "cell_type": "code",
   "execution_count": 5,
   "metadata": {},
   "outputs": [
    {
     "data": {
      "text/plain": [
       "dict_keys([0, 1, 2, 3, 4, 5, 6, 7, 8, 9])"
      ]
     },
     "execution_count": 5,
     "metadata": {},
     "output_type": "execute_result"
    }
   ],
   "source": [
    "# 生成されたitemには大きさと重さが含まれている\n",
    "items.keys()"
   ]
  },
  {
   "cell_type": "code",
   "execution_count": 6,
   "metadata": {},
   "outputs": [
    {
     "data": {
      "text/plain": [
       "dict_values([(11, 4), (2, 4), (8, 6), (10, 2), (3, 9), (10, 5), (3, 9), (4, 7), (5, 6), (10, 2)])"
      ]
     },
     "execution_count": 6,
     "metadata": {},
     "output_type": "execute_result"
    }
   ],
   "source": [
    "items.values()"
   ]
  },
  {
   "cell_type": "markdown",
   "metadata": {},
   "source": [
    "### 2. 適応度と個体の設定\n",
    "+ DEAPでは個体表現や適応度をクラスとして定義するしており、Fitnessで定義しているweightsは最小化or最大化問題を定義している。\n",
    "+ 今回はOneMax問題を使って遺伝的アルゴリズムにアプローチするので遺伝子のリストが最大になるように最適化する。\n",
    "    + リストがすべて1になる(すべての荷物が入る)ように最適化   \n",
    "+ ただし上記だけを最適化すると問題を解いたことにはならないため条件を付与する。\n",
    "    + ナップサック問題の場合\n",
    "        + 総重量 -> 小さくしたい\n",
    "        + 総価値 -> 大きくしたい"
   ]
  },
  {
   "cell_type": "code",
   "execution_count": 7,
   "metadata": {},
   "outputs": [],
   "source": [
    "creator.create(\"FitnessMax\", base.Fitness, weights=(1.0,))\n",
    "creator.create(\"Individual\", np.ndarray, fitness=creator.FitnessMax)"
   ]
  },
  {
   "cell_type": "markdown",
   "metadata": {},
   "source": [
    "### 3. GAに必要な交叉や突然変異関数の作成\n",
    "交叉方法や突然変異方法は自作もできるし、モジュールで準備されている関数を使用することもできる。\n",
    "\n",
    "+ ドキュメント\n",
    "> http://deap.readthedocs.io/en/master/api/tools.html"
   ]
  },
  {
   "cell_type": "markdown",
   "metadata": {},
   "source": [
    "#### 評価関数\n",
    "評価の際には実際にナップサックの容量と重量が条件を満たしているかを測る"
   ]
  },
  {
   "cell_type": "code",
   "execution_count": 8,
   "metadata": {},
   "outputs": [],
   "source": [
    "def evalOneMax(individual):\n",
    "    weight, value = 0, 0\n",
    "    for idx, i in enumerate(individual):\n",
    "        if i == 1:\n",
    "            weight += items[idx][0]\n",
    "            value += items[idx][1]\n",
    "    if weight > MAX_WEIGHT:\n",
    "        return 0,\n",
    "    return value,"
   ]
  },
  {
   "cell_type": "markdown",
   "metadata": {},
   "source": [
    "#### 交叉関数\n",
    "交叉は2点交叉を使用するものとする。DEAPでは `tools.cxTwoPoint`で実装されている。"
   ]
  },
  {
   "cell_type": "markdown",
   "metadata": {},
   "source": [
    "#### 突然変異関数\n",
    "突然変異は0,1で表されるビットを反転させるものを使用する。DEAPでは `tools.mutFlipBit` で実装されている。"
   ]
  },
  {
   "cell_type": "markdown",
   "metadata": {},
   "source": [
    "### 4. GAの関数をDeapのインターフェースに統一"
   ]
  },
  {
   "cell_type": "markdown",
   "metadata": {},
   "source": [
    "random.randintはa~bまでを参照するけど、np.random.randintはa~b-1を参照するので注意！\n",
    "> https://qiita.com/hamukazu/items/ec1b4659df00f0ce43b1"
   ]
  },
  {
   "cell_type": "code",
   "execution_count": 9,
   "metadata": {},
   "outputs": [],
   "source": [
    "toolbox = base.Toolbox()\n",
    "toolbox.register(\"attr_bool\", np.random.randint, 0, 2)\n",
    "toolbox.register(\"individual\", tools.initRepeat, creator.Individual, \n",
    "    toolbox.attr_bool, NBR_ITEMS)\n",
    "toolbox.register(\"population\", tools.initRepeat, list, toolbox.individual)"
   ]
  },
  {
   "cell_type": "code",
   "execution_count": 10,
   "metadata": {},
   "outputs": [],
   "source": [
    "toolbox.register(\"evaluate\", evalOneMax)\n",
    "toolbox.register(\"mate\", tools.cxOnePoint)\n",
    "toolbox.register(\"mutate\", tools.mutFlipBit, indpb=0.5)\n",
    "toolbox.register(\"select\", tools.selTournament, tournsize=3)"
   ]
  },
  {
   "cell_type": "markdown",
   "metadata": {},
   "source": [
    "### 5. GAを計算する"
   ]
  },
  {
   "cell_type": "code",
   "execution_count": 11,
   "metadata": {},
   "outputs": [],
   "source": [
    "def main(NGEN, MU, LABMDA, CXPB, MUTPB, VERBOSE):\n",
    "    np.random.seed(98)\n",
    "    \n",
    "    pop = toolbox.population(n=MU)\n",
    "    \n",
    "    hof = tools.HallOfFame(1, similar=np.array_equal)\n",
    "    logbook = tools.Logbook()\n",
    "    \n",
    "    # 価値がどのように推移したかを記録\n",
    "    stats_fit = tools.Statistics(key=lambda ind: ind.fitness.values[0])\n",
    "    # 荷物の数がどのように推移したかを記録\n",
    "    stats_size = tools.Statistics(key=lambda ind: len([i for i in ind if i==1]))\n",
    "    \n",
    "    mstats = tools.MultiStatistics(values=stats_fit, num_of_item=stats_size)\n",
    "    \n",
    "    mstats.register(\"avg\", np.mean, axis=0)\n",
    "    #mstats.register(\"std\", np.std, axis=0)\n",
    "    mstats.register(\"min\", np.min, axis=0)\n",
    "    mstats.register(\"max\", np.max, axis=0)\n",
    "    \n",
    "    pop, logbook = algorithms.eaMuPlusLambda(pop, \n",
    "                                             toolbox, \n",
    "                                             MU, \n",
    "                                             LAMBDA, \n",
    "                                             CXPB, \n",
    "                                             MUTPB, \n",
    "                                             NGEN, \n",
    "                                             mstats, \n",
    "                                             halloffame=hof,\n",
    "                                            verbose=VERBOSE)\n",
    "    \n",
    "    return pop, mstats, hof, logbook"
   ]
  },
  {
   "cell_type": "markdown",
   "metadata": {},
   "source": [
    "ここで設定する値を変更することで交叉や突然変異の確率を変更することができる。\n",
    "\n",
    "+ NGEN:世代数\n",
    "+ MU:エリート選択の数。0にすると選択しない\n",
    "+ LAMBDA:各世代で生む子供の数。0にすると子供が生まれない。\n",
    "+ CXPB:交配によって生まれる子供の確率。0だと子供が生まれても残らない。\n",
    "+ MUTPB:突然変異によって生まれる子供の確率。0だと子供が生まれても残らない。"
   ]
  },
  {
   "cell_type": "code",
   "execution_count": 12,
   "metadata": {},
   "outputs": [],
   "source": [
    "NGEN = 50\n",
    "MU = 100\n",
    "LAMBDA = 30\n",
    "CXPB = 0.7 # LAMBDA * CXPB 分の個体が生まれる\n",
    "MUTPB = 0.2"
   ]
  },
  {
   "cell_type": "code",
   "execution_count": 13,
   "metadata": {
    "scrolled": true
   },
   "outputs": [
    {
     "name": "stdout",
     "output_type": "stream",
     "text": [
      "   \t      \t    num_of_item    \t       values      \n",
      "   \t      \t-------------------\t-------------------\n",
      "gen\tnevals\tavg \tmax\tmin\tavg \tmax\tmin\n",
      "0  \t100   \t5.42\t9  \t2  \t0.98\t26 \t0  \n",
      "1  \t28    \t5.16\t9  \t2  \t3.65\t26 \t0  \n",
      "2  \t28    \t4.36\t9  \t2  \t8.42\t26 \t0  \n",
      "3  \t29    \t3.54\t9  \t1  \t16.93\t26 \t0  \n",
      "4  \t28    \t3.54\t4  \t2  \t23.71\t31 \t11 \n",
      "5  \t26    \t3.92\t4  \t2  \t26.64\t31 \t16 \n",
      "6  \t26    \t4.01\t5  \t4  \t28.03\t35 \t26 \n",
      "7  \t27    \t4.07\t5  \t4  \t29.46\t35 \t26 \n",
      "8  \t25    \t4.26\t5  \t4  \t31.73\t35 \t28 \n",
      "9  \t24    \t4.68\t5  \t4  \t33.72\t35 \t31 \n",
      "10 \t29    \t4.96\t5  \t4  \t34.84\t35 \t31 \n",
      "11 \t27    \t5   \t5  \t5  \t35   \t35 \t35 \n",
      "12 \t27    \t5   \t5  \t5  \t35   \t35 \t35 \n",
      "13 \t30    \t5   \t5  \t5  \t35   \t35 \t35 \n",
      "14 \t26    \t5   \t5  \t5  \t35   \t35 \t35 \n",
      "15 \t29    \t5   \t5  \t5  \t35   \t35 \t35 \n",
      "16 \t26    \t5   \t5  \t5  \t35   \t35 \t35 \n",
      "17 \t27    \t5   \t5  \t5  \t35   \t35 \t35 \n",
      "18 \t28    \t5   \t5  \t5  \t35   \t35 \t35 \n",
      "19 \t26    \t5   \t5  \t5  \t35   \t35 \t35 \n",
      "20 \t21    \t5   \t5  \t5  \t35   \t35 \t35 \n",
      "21 \t27    \t5   \t5  \t5  \t35   \t35 \t35 \n",
      "22 \t27    \t5   \t5  \t5  \t35   \t35 \t35 \n",
      "23 \t28    \t5   \t5  \t5  \t35   \t35 \t35 \n",
      "24 \t30    \t5   \t5  \t5  \t35   \t35 \t35 \n",
      "25 \t27    \t5   \t5  \t5  \t35   \t35 \t35 \n",
      "26 \t24    \t5   \t5  \t5  \t35   \t35 \t35 \n",
      "27 \t27    \t5   \t5  \t5  \t35   \t35 \t35 \n",
      "28 \t26    \t5   \t5  \t5  \t34.65\t35 \t0  \n",
      "29 \t28    \t4.98\t5  \t3  \t34.82\t35 \t17 \n",
      "30 \t28    \t5   \t5  \t5  \t35   \t35 \t35 \n",
      "31 \t26    \t5   \t5  \t5  \t35   \t35 \t35 \n",
      "32 \t29    \t5   \t5  \t5  \t35   \t35 \t35 \n",
      "33 \t28    \t5   \t5  \t5  \t35   \t35 \t35 \n",
      "34 \t29    \t5   \t5  \t5  \t35   \t35 \t35 \n",
      "35 \t28    \t5   \t5  \t5  \t35   \t35 \t35 \n",
      "36 \t26    \t5   \t5  \t5  \t35   \t35 \t35 \n",
      "37 \t29    \t5   \t5  \t5  \t34.65\t35 \t0  \n",
      "38 \t28    \t5   \t5  \t5  \t35   \t35 \t35 \n",
      "39 \t29    \t5   \t5  \t5  \t35   \t35 \t35 \n",
      "40 \t26    \t5   \t5  \t5  \t35   \t35 \t35 \n",
      "41 \t27    \t5   \t5  \t5  \t35   \t35 \t35 \n",
      "42 \t30    \t5   \t5  \t5  \t35   \t35 \t35 \n",
      "43 \t30    \t5   \t5  \t5  \t35   \t35 \t35 \n",
      "44 \t27    \t5   \t5  \t5  \t35   \t35 \t35 \n",
      "45 \t27    \t5   \t5  \t5  \t35   \t35 \t35 \n",
      "46 \t30    \t5   \t5  \t5  \t35   \t35 \t35 \n",
      "47 \t26    \t5   \t5  \t5  \t35   \t35 \t35 \n",
      "48 \t26    \t5   \t5  \t5  \t35   \t35 \t35 \n",
      "49 \t24    \t5   \t5  \t5  \t35   \t35 \t35 \n",
      "50 \t28    \t5   \t5  \t5  \t35   \t35 \t35 \n"
     ]
    }
   ],
   "source": [
    "# 世代ごとの結果が出力される\n",
    "# gen -> 世代\n",
    "# nevals -> 評価された個体数\n",
    "pop, mstats, hof, logbook = main(NGEN, MU, LAMBDA, CXPB, MUTPB, True)"
   ]
  },
  {
   "cell_type": "code",
   "execution_count": 14,
   "metadata": {},
   "outputs": [
    {
     "data": {
      "text/plain": [
       "Individual([0, 1, 1, 0, 1, 0, 1, 1, 0, 0])"
      ]
     },
     "execution_count": 14,
     "metadata": {},
     "output_type": "execute_result"
    }
   ],
   "source": [
    "hof.items[0]"
   ]
  },
  {
   "cell_type": "code",
   "execution_count": 15,
   "metadata": {},
   "outputs": [
    {
     "data": {
      "text/plain": [
       "[(2, 4), (8, 6), (3, 9), (3, 9), (4, 7)]"
      ]
     },
     "execution_count": 15,
     "metadata": {},
     "output_type": "execute_result"
    }
   ],
   "source": [
    "# 選択された荷物\n",
    "result = [items[i] for i, h in enumerate(hof.items[0]) if h==1]\n",
    "result"
   ]
  },
  {
   "cell_type": "code",
   "execution_count": 16,
   "metadata": {},
   "outputs": [],
   "source": [
    "def calResult(individual):\n",
    "    weight, value = 0, 0\n",
    "    for idx, i in enumerate(individual):\n",
    "        if i == 1:\n",
    "            weight += items[idx][0]\n",
    "            value += items[idx][1]\n",
    "    return weight, value"
   ]
  },
  {
   "cell_type": "code",
   "execution_count": 17,
   "metadata": {},
   "outputs": [
    {
     "name": "stdout",
     "output_type": "stream",
     "text": [
      "荷物の総重量 => 20\n",
      "荷物の総価値 => 35\n"
     ]
    }
   ],
   "source": [
    "weights, values = calResult(hof.items[0])\n",
    "print(\"荷物の総重量 => {0}\\n荷物の総価値 => {1}\".format(weights, values))"
   ]
  },
  {
   "cell_type": "markdown",
   "metadata": {},
   "source": [
    "### 6. 出力結果の可視化"
   ]
  },
  {
   "cell_type": "code",
   "execution_count": 18,
   "metadata": {},
   "outputs": [],
   "source": [
    "%matplotlib inline\n",
    "import matplotlib.pyplot as plt"
   ]
  },
  {
   "cell_type": "code",
   "execution_count": 19,
   "metadata": {},
   "outputs": [],
   "source": [
    "logbook.header = \"gen\", \"evals\", \"num_of_items\", \"values\"\n",
    "logbook.chapters[\"num_of_items\"].header = \"min\", \"avg\", \"max\"\n",
    "logbook.chapters[\"values\"].header = \"min\", \"avg\", \"max\"\n",
    "\n",
    "max_values = logbook.chapters[\"values\"].select(\"max\")"
   ]
  },
  {
   "cell_type": "code",
   "execution_count": 20,
   "metadata": {},
   "outputs": [
    {
     "data": {
      "text/plain": [
       "<matplotlib.legend.Legend at 0x114afae48>"
      ]
     },
     "execution_count": 20,
     "metadata": {},
     "output_type": "execute_result"
    },
    {
     "data": {
      "image/png": "[encoded data removed]",
      "text/plain": [
       "<matplotlib.figure.Figure at 0x10ff2c208>"
      ]
     },
     "metadata": {},
     "output_type": "display_data"
    }
   ],
   "source": [
    "plt.title(\"result on baggage values\")\n",
    "plt.xlabel(\"generation\")\n",
    "plt.ylabel(\"values\")\n",
    "plt.plot(max_values, label=\"cx={}, mut={}\".format(True, True))\n",
    "plt.legend()"
   ]
  },
  {
   "cell_type": "markdown",
   "metadata": {},
   "source": [
    "## ステップアップ：交叉や突然変異のパラメータを変更して学習過程を見ていこう"
   ]
  },
  {
   "cell_type": "markdown",
   "metadata": {},
   "source": [
    "上記の交叉や突然変異のパラメータを変更しながらGAの関数の役割を見ていく。\n",
    "\n",
    "+ 完全ランダム: LAMBDA,CXPB, MUTPBは0にする\n",
    "+ **選択のみ**: CXPB,MUTPBは0にする\n",
    "    + 選択をしない方法は(そもそもGAとしてだめ)なのでparam_optには未実装\n",
    "        + 交叉のみ: LAMBDA, MUTPBは0にする\n",
    "        + 突然変異のみ: LAMBDA,CXPBは0にする\n",
    "+ **選択+交叉**: MUTPBは0にする\n",
    "+ **選択+突然変異**: CXPBは0にする"
   ]
  },
  {
   "cell_type": "code",
   "execution_count": 28,
   "metadata": {},
   "outputs": [],
   "source": [
    "def param_opt(cx, mut) -> bool:\n",
    "    # パラメータの設定\n",
    "    NGEN = 50\n",
    "    MU = 100\n",
    "    LAMBDA = 30\n",
    "    CXPB = 0.7 # LAMBDA * CXPB 分の個体が生まれる\n",
    "    MUTPB = 0.2\n",
    "    \n",
    "    if cx == mut == False:\n",
    "        CXPB, MUTPB = 0.0, 0.0\n",
    "    elif cx == False:\n",
    "        CXPB = 0.0\n",
    "        MUTPB = 1.0\n",
    "    elif mut == False:\n",
    "        CXPB = 1.0\n",
    "        MUTPB = 0.0    \n",
    "    \n",
    "    return NGEN, MU, LAMBDA, CXPB, MUTPB"
   ]
  },
  {
   "cell_type": "code",
   "execution_count": 29,
   "metadata": {},
   "outputs": [
    {
     "data": {
      "text/plain": [
       "(50, 100, 30, 0.7, 0.2)"
      ]
     },
     "execution_count": 29,
     "metadata": {},
     "output_type": "execute_result"
    }
   ],
   "source": [
    "param_opt(True, True)"
   ]
  },
  {
   "cell_type": "code",
   "execution_count": 30,
   "metadata": {},
   "outputs": [],
   "source": [
    "def compare_plot(cx_flag, mut_flag):\n",
    "    NGEN, MU, LAMBDA, CXPB, MUTPB = param_opt(cx_flag, mut_flag)\n",
    "    pop, mstats, hof, logbook = main(NGEN, MU, LAMBDA, CXPB, MUTPB, False)\n",
    "\n",
    "    logbook.header = \"gen\", \"evals\", \"num_of_items\", \"values\"\n",
    "    logbook.chapters[\"num_of_items\"].header = \"min\", \"avg\", \"max\"\n",
    "    logbook.chapters[\"values\"].header = \"min\", \"avg\", \"max\"\n",
    "    \n",
    "    # generation ごとの値のリストを取得\n",
    "    max_values = logbook.chapters[\"values\"].select(\"max\")\n",
    "    \n",
    "    return max_values"
   ]
  },
  {
   "cell_type": "code",
   "execution_count": 31,
   "metadata": {},
   "outputs": [
    {
     "data": {
      "text/plain": [
       "<matplotlib.legend.Legend at 0x11931cf60>"
      ]
     },
     "execution_count": 31,
     "metadata": {},
     "output_type": "execute_result"
    },
    {
     "data": {
      "image/png": "[encoded data removed]",
      "text/plain": [
       "<matplotlib.figure.Figure at 0x119268940>"
      ]
     },
     "metadata": {},
     "output_type": "display_data"
    }
   ],
   "source": [
    "flags = [[False, False], [False, True], [True, False], [True, True]]\n",
    "\n",
    "plt.title(\"result on baggage values\")\n",
    "plt.xlabel(\"generation\")\n",
    "plt.ylabel(\"values\")\n",
    "\n",
    "for flag in flags:\n",
    "    max_values = compare_plot(flag[0], flag[1])\n",
    "    plt.plot(max_values, label=\"cx={}, mut={}\".format(flag[0], flag[1]))\n",
    "plt.legend()\n",
    "#plt.plot(max_picks)"
   ]
  },
  {
   "cell_type": "code",
   "execution_count": null,
   "metadata": {},
   "outputs": [],
   "source": []
  }
 ],
 "metadata": {
  "kernelspec": {
   "display_name": "Python 3",
   "language": "python",
   "name": "python3"
  },
  "language_info": {
   "codemirror_mode": {
    "name": "ipython",
    "version": 3
   },
   "file_extension": ".py",
   "mimetype": "text/x-python",
   "name": "python",
   "nbconvert_exporter": "python",
   "pygments_lexer": "ipython3",
   "version": "3.6.4"
  }
 },
 "nbformat": 4,
 "nbformat_minor": 2
}
